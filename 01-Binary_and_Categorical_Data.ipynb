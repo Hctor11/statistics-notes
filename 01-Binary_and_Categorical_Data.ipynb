{
 "cells": [
  {
   "cell_type": "markdown",
   "metadata": {},
   "source": [
    "# Exploring Binary and Categorical Data\n",
    "\n",
    "key terms:\n",
    "- Mode: the most common value of a dataset\n",
    "- Expected Value: when the categories can be associated with a numeric value, this gives an average value based on a category's of occurrence\n",
    "- Bar Charts\n",
    "- Pie Charts"
   ]
  },
  {
   "cell_type": "code",
   "execution_count": null,
   "metadata": {},
   "outputs": [],
   "source": []
  },
  {
   "cell_type": "code",
   "execution_count": null,
   "metadata": {},
   "outputs": [],
   "source": []
  }
 ],
 "metadata": {
  "language_info": {
   "name": "python"
  }
 },
 "nbformat": 4,
 "nbformat_minor": 2
}
