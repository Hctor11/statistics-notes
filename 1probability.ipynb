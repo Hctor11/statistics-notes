{
 "cells": [
  {
   "cell_type": "markdown",
   "metadata": {},
   "source": [
    "# Probability\n",
    "\n",
    "The probability that an event will happen is the proportion of times it will occur if the situation could be repeated over and over, countless times. Most often this is an imaginary construction but its an adequate operational understanding of probability.\n",
    "\n",
    "### Key Ideas\n",
    "\n",
    "- Categorical data is typically summed up in proportions and can be visualized in a bar chart.\n",
    "\n",
    "- Categories might represent distinct things (apples and oranges, male and female) levels of a factor variable or numeric data has been bineed.\n",
    "\n",
    "- Expected value is the sum of values times their probability of occurrence, often used to sum up factor variable levels.\n",
    "\n",
    "# Correlation\n",
    "\n",
    "Exploratory data analysis in many modeling projects involves examing correlation among predictors, and between predictors and a target variable. Variables x and Y are said to be positively correlated if high values of X go with values of Y and low values of X go with low values of Y. if High values of X go with low values of Y and vice versa, the variables are negatively correlated.\n",
    "\n",
    "### Key Ideas\n",
    "\n",
    "- **Correlation coefficient:** A metric that measures the extent to which numeric variables are associated with one another (ranges from -1 to +1).\n",
    "- **Correlation Matrix:** A table where the variables are shown on both rows and columns, and the cell values are the correlations between the variables.\n",
    "- **Scatterplot:** A plot in which the x-axis is the value of one varible and the y-axis the value of another."
   ]
  },
  {
   "cell_type": "code",
   "execution_count": null,
   "metadata": {},
   "outputs": [],
   "source": []
  }
 ],
 "metadata": {
  "language_info": {
   "name": "python"
  }
 },
 "nbformat": 4,
 "nbformat_minor": 2
}
