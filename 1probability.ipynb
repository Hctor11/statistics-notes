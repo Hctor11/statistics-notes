{
 "cells": [
  {
   "cell_type": "markdown",
   "metadata": {},
   "source": [
    "# Probability\n",
    "\n",
    "The probability that an event will happen is the proportion of times it will occur if the situation could be repeated over and over, countless times. Most often this is an imaginary construction but its an adequate operational understanding of probability.\n",
    "\n",
    "### Key Ideas\n",
    "\n",
    "- Categorical data is typically summed up in proportions and can be visualized in a bar chart.\n",
    "\n",
    "- Categories might represent distinct things (apples and oranges, male and female) levels of a factor variable or numeric data has been bineed.\n",
    "\n",
    "- Expected value is the sum of values times their probability of occurrence, often used to sum up factor variable levels.\n",
    "\n",
    "# Correlation\n",
    "\n",
    "Exploratory data analysis in many modeling projects involves examing correlation among predictors, and between predictors and a target variable. Variables x and Y are said to be positively correlated if high values of X go with values of Y and low values of X go with low values of Y. if High values of X go with low values of Y and vice versa, the variables are negatively correlated.\n",
    "\n",
    "### Key Ideas\n",
    "\n",
    "- **Correlation coefficient:** A metric that measures the extent to which numeric variables are associated with one another (ranges from -1 to +1).\n",
    "- **Correlation Matrix:** A table where the variables are shown on both rows and columns, and the cell values are the correlations between the variables.\n",
    "- **Scatterplot:** A plot in which the x-axis is the value of one varible and the y-axis the value of another.\n",
    "\n",
    "Consider these two variables perfectly correlated in the sensa that each goes from low to high:\n",
    "\n",
    "$v1=\\{1,2,3\\}$\n",
    "$v2=\\{4,5,6\\}$\n",
    "\n",
    "The vector sum of products is 1 * 4 + 2 * 5 + 3 * 6 = 32. If we try to shuffle the terms we find that we will never be higher than 32, so this sum of products could be used as a metric, the observed sum of 32 could be compared to lots of random shufflings. Values produced by this metric are not that meaningfull, except by reference to the resampling distribution.\n",
    "\n",
    "More useful is a standarized variant: the _correlation coefficient,_ which gives  and estimate of the correlation between two variables that always lies on the same scale. To compute Pearson's correlation coefficient we need to compute the _covariance_ and the _standard deviation_ of the two variables.\n",
    "\n",
    "$$r=\\frac{cov(X,Y)}{\\sigma_x\\sigma_y}$$"
   ]
  }
 ],
 "metadata": {
  "language_info": {
   "name": "python"
  }
 },
 "nbformat": 4,
 "nbformat_minor": 2
}
