{
 "cells": [
  {
   "cell_type": "markdown",
   "metadata": {},
   "source": [
    "# Kurtosis\n",
    "_kurtosis (from Greek: κυρτός, kyrtos or kurtos, meaning \"curved, arching\")_\n",
    "\n",
    "Kurtosis is the measure of the flatness of a distribution"
   ]
  },
  {
   "cell_type": "code",
   "execution_count": null,
   "metadata": {},
   "outputs": [],
   "source": []
  }
 ],
 "metadata": {
  "language_info": {
   "name": "python"
  }
 },
 "nbformat": 4,
 "nbformat_minor": 2
}
