{
 "cells": [
  {
   "cell_type": "markdown",
   "metadata": {},
   "source": [
    "# Understanding Descriptive statistics\n",
    "\n",
    "Descriptive statistics is about describing and summarizing data, It uses two main approaches:\n",
    "\n",
    "- Quantitative approach, where the data is numeric.\n",
    "- Visual approach, where the data is illustrated with plots and histograms.\n",
    "\n",
    "# Types of measures\n",
    "\n",
    "- Central tendency\n",
    "- Variability\n",
    "- Correlation or joint variability\n",
    "\n",
    "# Population and samples\n",
    "The population is a set of all elements or items that you are interested in, the subset of population is called a sample, ideally, the sample should preserve the essencial statistical features of the population to a satisfactory extent.\n",
    "\n",
    "# Outliers\n",
    "An outlier is a data point that differs significantly from the majority of the data taken from a sample or population. There are many possible causes of outliers but here are few to start off:\n",
    "\n",
    "- Natural variation in data\n",
    "- change in the behavior of the observed system\n",
    "- errors in data collection\n"
   ]
  },
  {
   "cell_type": "code",
   "execution_count": 2,
   "metadata": {},
   "outputs": [],
   "source": [
    "import math\n",
    "import statistics\n",
    "import numpy as np\n",
    "import scipy.stats\n",
    "import pandas as pd"
   ]
  },
  {
   "cell_type": "code",
   "execution_count": 3,
   "metadata": {},
   "outputs": [
    {
     "data": {
      "text/plain": [
       "[8.0, 1, 2.5, 4, 28.0]"
      ]
     },
     "execution_count": 3,
     "metadata": {},
     "output_type": "execute_result"
    }
   ],
   "source": [
    "x = [8.0, 1, 2.5, 4, 28.0]\n",
    "x_with_nan = [8.0, 1, 2.5, math.nan, 4, 28.0]\n",
    "x"
   ]
  },
  {
   "cell_type": "code",
   "execution_count": 4,
   "metadata": {},
   "outputs": [
    {
     "data": {
      "text/plain": [
       "0     8.0\n",
       "1     1.0\n",
       "2     2.5\n",
       "3     NaN\n",
       "4     4.0\n",
       "5    28.0\n",
       "dtype: float64"
      ]
     },
     "execution_count": 4,
     "metadata": {},
     "output_type": "execute_result"
    }
   ],
   "source": [
    "y, y_with_nan = np.array(x), np.array(x_with_nan)\n",
    "z, z_with_nan = pd.Series(x_with_nan), pd.Series(x_with_nan)\n",
    "\n",
    "z"
   ]
  },
  {
   "cell_type": "markdown",
   "metadata": {},
   "source": [
    "# Measures of central tendency\n",
    "The measures of central tendency show the central or middle values of datasets. The most common measures of central tendency are:\n",
    "\n",
    "- mean \n",
    "- Weighted mean\n",
    "- Geometric mean\n",
    "- Harmonic mean\n",
    "- median\n",
    "- mode"
   ]
  },
  {
   "cell_type": "markdown",
   "metadata": {},
   "source": [
    "## Mean\n",
    "the smaple arithmetic mean or the _average_ is the arithmetic average of all the items in a dataset.\n",
    "The mean of a dataset $x$ is mathematically equivalent to\n",
    "$$\n",
    "\\Sigma_{i} \\frac{x_{i}}{n}\n",
    "$$\n"
   ]
  },
  {
   "cell_type": "code",
   "execution_count": 11,
   "metadata": {},
   "outputs": [
    {
     "data": {
      "text/plain": [
       "8.7"
      ]
     },
     "execution_count": 11,
     "metadata": {},
     "output_type": "execute_result"
    }
   ],
   "source": [
    "# We can calculate the mean with the sum() and len() functions\n",
    "mean_ = sum(x) / len(x)\n",
    "\n",
    "# Also we can use the build in statistics functions\n",
    "mean_ = statistics.mean(x)\n",
    "mean_ = statistics.fmean(x) # fmean is 'faster mean'\n",
    "\n",
    "# if we had nan values in our data, the mean and fmean functions will not work and just return a nan\n",
    "mean_ = statistics.fmean(x_with_nan)\n",
    "\n",
    "# if we need to know the mean of a dataset with nan values, we need the numpy nanmean() function\n",
    "mean_ = np.nanmean(x_with_nan)\n",
    "mean_"
   ]
  },
  {
   "cell_type": "markdown",
   "metadata": {},
   "source": [
    "## Weighted mean\n",
    "\n",
    "The weighted mean, also called the weighted arithmetic mean or weighted average is a generalization of the arithmetic mean that enable define the relative contribution of each point to the result.\n",
    "\n",
    "We need to define the $weight\\; w_{i}$ for each data point $x_{i}$ of the dataset. Mathematically this is equals to:\n",
    "\n",
    "$$\\dfrac{\\sum_{i}w_{i}x_{i}}{\\sum_{i}w_{i}}$$\n",
    "\n",
    "The weighted mean is useful when we need the mean of a dataset containing items that occur with relative frequences."
   ]
  },
  {
   "cell_type": "markdown",
   "metadata": {},
   "source": [
    "    For example, say that you have a set in which 20% of all items are equal to 2, 50% of the items are equal to 4, and the remaining 30% of the items are equal to 8. You can calculate the mean of such a set like this:"
   ]
  },
  {
   "cell_type": "code",
   "execution_count": 1,
   "metadata": {},
   "outputs": [
    {
     "data": {
      "text/plain": [
       "4.8"
      ]
     },
     "execution_count": 1,
     "metadata": {},
     "output_type": "execute_result"
    }
   ],
   "source": [
    "0.2 * 2 + 0.5 * 4 + 0.3 * 8"
   ]
  },
  {
   "cell_type": "code",
   "execution_count": 2,
   "metadata": {},
   "outputs": [
    {
     "data": {
      "text/plain": [
       "6.95"
      ]
     },
     "execution_count": 2,
     "metadata": {},
     "output_type": "execute_result"
    }
   ],
   "source": [
    "x = [8.0, 1, 2.5, 4, 28]\n",
    "w = [0.1, 0.2, 0.3, 0.25, 0.15]\n",
    "\n",
    "wmean = sum(w[i] * x[i] for i in range(len(x)))/sum(w)\n",
    "wmean"
   ]
  },
  {
   "cell_type": "markdown",
   "metadata": {},
   "source": [
    "## Harmonic mean\n",
    "is the reciprocal of the mean of the reciprocals of all items in the dataset:\n",
    "$$ \\frac{n}{\\sum_{i=1}^n \\frac{1}{x_i}} $$"
   ]
  },
  {
   "cell_type": "code",
   "execution_count": 8,
   "metadata": {},
   "outputs": [
    {
     "data": {
      "text/plain": [
       "2.7613412228796843"
      ]
     },
     "execution_count": 8,
     "metadata": {},
     "output_type": "execute_result"
    }
   ],
   "source": [
    "hmean = len(x) / sum(1/item for item in x)\n",
    "hmean = statistics.harmonic_mean(x)\n",
    "hmean"
   ]
  },
  {
   "cell_type": "markdown",
   "metadata": {},
   "source": [
    "## Geometric mean\n",
    "is the n-th root of the product of all n elements $x_{i}$ in a dataset\n",
    "$$x = \\sqrt[n]{\\prod_{i=1}^{n}x_{i}}$$"
   ]
  },
  {
   "cell_type": "code",
   "execution_count": 10,
   "metadata": {},
   "outputs": [
    {
     "data": {
      "text/plain": [
       "4.677885674856041"
      ]
     },
     "execution_count": 10,
     "metadata": {},
     "output_type": "execute_result"
    }
   ],
   "source": [
    "gmean = 1\n",
    "for item in x:\n",
    "    gmean *= item\n",
    "    \n",
    "gmean **= 1 / len(x)\n",
    "gmean"
   ]
  },
  {
   "cell_type": "markdown",
   "metadata": {},
   "source": [
    "## Median\n",
    "the _sample median_ is the middle element of a sorted dataset. The dataset can be sorted in increasing or decreasing order.\n",
    "\n",
    "The difference between the behavior of the mean and median is related to dataset outliers or extremes. The mean is heavily affected by outliers, but the median only depends on outliers either slightly or not at all.\n",
    "\n",
    "We can compare the mean and median as one way to detect outliers and asymmetry in our data."
   ]
  },
  {
   "cell_type": "code",
   "execution_count": 11,
   "metadata": {},
   "outputs": [
    {
     "data": {
      "text/plain": [
       "4"
      ]
     },
     "execution_count": 11,
     "metadata": {},
     "output_type": "execute_result"
    }
   ],
   "source": [
    "n = len(x)\n",
    "\n",
    "if n % 2:\n",
    "    median_ = sorted(x)[round(0.5*(n-1))]\n",
    "else:\n",
    "    x_ord, index = sorted(x), round(0.5*n)\n",
    "    median_ = 0.5 * (x_ord[index-1] + x_ord[index])\n",
    "    \n",
    "median_"
   ]
  },
  {
   "cell_type": "markdown",
   "metadata": {},
   "source": [
    "Unlike most other functions from the python statistics library, the median(), median_low(), and median_high() dont return nan when there are nan values among the data points."
   ]
  },
  {
   "cell_type": "code",
   "execution_count": 15,
   "metadata": {},
   "outputs": [
    {
     "data": {
      "text/plain": [
       "8.0"
      ]
     },
     "execution_count": 15,
     "metadata": {},
     "output_type": "execute_result"
    }
   ],
   "source": [
    "statistics.median(x_with_nan)\n",
    "statistics.median_low(x_with_nan)\n",
    "statistics.median_high(x_with_nan)"
   ]
  },
  {
   "cell_type": "markdown",
   "metadata": {},
   "source": [
    "## Mode\n",
    "the sample mode is the value in the dataset that occurs most frequently"
   ]
  },
  {
   "cell_type": "markdown",
   "metadata": {},
   "source": [
    "# Measure of variability\n",
    "The mearsures of central tendency are not the only ones, there are other type of measure called the Measure of Variability, this type of measure describe the spread of the data.\n",
    "\n",
    "the variability measure are:\n",
    "- Variance\n",
    "- Standard Deviation\n",
    "- Skewness\n",
    "- Percentiles\n",
    "- Ranges"
   ]
  },
  {
   "cell_type": "markdown",
   "metadata": {},
   "source": [
    "## Variance\n",
    "The sample variance show how far the data points are from the mean. We can express the sample variance of the dataset mathematically as:\n",
    "$$s^{2} =  \\frac{\\sum_{i=1}^{n}(x_{i}-\\bar{x})^{2}}{n-1}$$"
   ]
  },
  {
   "cell_type": "code",
   "execution_count": 3,
   "metadata": {},
   "outputs": [
    {
     "data": {
      "text/plain": [
       "123.19999999999999"
      ]
     },
     "execution_count": 3,
     "metadata": {},
     "output_type": "execute_result"
    }
   ],
   "source": [
    "n = len(x)\n",
    "mean_ = sum(x)/n\n",
    "var_ = sum((item - mean_)**2 for item in x) / (n-1)\n",
    "var_"
   ]
  },
  {
   "cell_type": "code",
   "execution_count": 6,
   "metadata": {},
   "outputs": [
    {
     "data": {
      "text/plain": [
       "123.2"
      ]
     },
     "execution_count": 6,
     "metadata": {},
     "output_type": "execute_result"
    }
   ],
   "source": [
    "var_ = statistics.variance(x)\n",
    "var_"
   ]
  },
  {
   "cell_type": "markdown",
   "metadata": {},
   "source": [
    "We can also calculate the *population variance*, is almost the same as the sample variance, the main difference is that we use the entire population instead of a sample, so instead of $(n - 1)$ we only need to use $n$:\n",
    "    $$s^{2} =  \\frac{\\sum_{i=1}^{n}(x_{i}-\\bar{x})^{2}}{n}$$\n"
   ]
  },
  {
   "cell_type": "markdown",
   "metadata": {},
   "source": [
    "## Standard Deviation\n",
    "The sample standard deviation is the positive square root of the sample variance. A low standard deviation indicates that the values tend to be close to the mean of the set, while a high standard deviation indicates that the values are spread over a wide range.\n",
    "\n",
    "The formula of standard deviation is:\n",
    "$$s = \\sqrt{\\frac{\\sum_{i=1}^{n}(x_{i}-\\bar{x})^{2}}{n-1}}$$"
   ]
  },
  {
   "cell_type": "code",
   "execution_count": 7,
   "metadata": {},
   "outputs": [
    {
     "data": {
      "text/plain": [
       "11.099549540409287"
      ]
     },
     "execution_count": 7,
     "metadata": {},
     "output_type": "execute_result"
    }
   ],
   "source": [
    "std_ = var_ ** 0.5\n",
    "std_"
   ]
  },
  {
   "cell_type": "markdown",
   "metadata": {},
   "source": [
    "Also we can find the *population standard deviation*, this is the positive square root of the population variance.\n",
    "\n",
    "The formula is:\n",
    "$$s = \\sqrt{\\frac{\\sum_{i=1}^{n}(x_{i}-\\bar{x})^{2}}{n}}$$ "
   ]
  },
  {
   "cell_type": "markdown",
   "metadata": {},
   "source": [
    "## Skewness\n",
    "The **Sample Skewness** measures the asymmetry of a data sample.\n",
    "\n",
    "There are a lot of mathematically descriptions for skewness, the most common is the **Fisher Pearson standardized moment coefficient**:\n",
    "$$g_{1} = \\frac{\\sum_{i=1}^{N}(Y_{i} - \\bar{Y})^{3}/N} {s^{3}}$$\n",
    "\n",
    "Usually negative skewness indicate that there is a dominant tail on the left, positive skewness indicate that the right side has a dominant tail.\n",
    "If the dataset skewness is between -1/2 and 1/2 then the dataset is considered asymmetrical."
   ]
  },
  {
   "cell_type": "code",
   "execution_count": 11,
   "metadata": {},
   "outputs": [
    {
     "data": {
      "text/plain": [
       "1.9470432273905929"
      ]
     },
     "execution_count": 11,
     "metadata": {},
     "output_type": "execute_result"
    }
   ],
   "source": [
    "x = [8.0, 1, 2.5, 4, 28]\n",
    "n = len(x)\n",
    "\n",
    "mean_ = sum(x)/n\n",
    "var_ = sum((item - mean_)**2 for item in x) / (n - 1)\n",
    "std_ = var_ ** 0.5\n",
    "skew_ = (sum((item - mean_)**3 for item in x) * n / ((n - 1) * (n - 2) * std_**3))\n",
    "\n",
    "skew_"
   ]
  },
  {
   "cell_type": "code",
   "execution_count": 6,
   "metadata": {},
   "outputs": [
    {
     "data": {
      "text/plain": [
       "1.9470432273905927"
      ]
     },
     "execution_count": 6,
     "metadata": {},
     "output_type": "execute_result"
    }
   ],
   "source": [
    "y, y_with_nan = np.array(x), np.array(x_with_nan)\n",
    "scipy.stats.skew(y, bias=False)"
   ]
  },
  {
   "cell_type": "markdown",
   "metadata": {},
   "source": [
    "# _Percentiles_\n",
    "\n",
    "The sample percentile p is the element in the dataset such that p% of the elements in the dataset are less than or equal to that value."
   ]
  },
  {
   "cell_type": "code",
   "execution_count": 8,
   "metadata": {},
   "outputs": [
    {
     "data": {
      "text/plain": [
       "[0.1, 8.0, 21.0]"
      ]
     },
     "execution_count": 8,
     "metadata": {},
     "output_type": "execute_result"
    }
   ],
   "source": [
    "x = [-5.0, -1.1, 0.1, 2.0, 8.0, 12.8, 21.0, 25.8, 41.0]\n",
    "statistics.quantiles(x, n = 4, method='inclusive')"
   ]
  },
  {
   "cell_type": "markdown",
   "metadata": {},
   "source": [
    "# _Ranges_\n",
    "The range of data is the difference between the maximum and minimum element in the dataset"
   ]
  },
  {
   "cell_type": "code",
   "execution_count": 10,
   "metadata": {},
   "outputs": [
    {
     "data": {
      "text/plain": [
       "46.0"
      ]
     },
     "execution_count": 10,
     "metadata": {},
     "output_type": "execute_result"
    }
   ],
   "source": [
    "np.ptp(x)"
   ]
  },
  {
   "cell_type": "markdown",
   "metadata": {},
   "source": [
    "# _Summary of descriptive Statistics_\n",
    "\n",
    "SciPy and pandas can offer methods to get descriptive statistics of a dataset:"
   ]
  },
  {
   "cell_type": "code",
   "execution_count": 5,
   "metadata": {},
   "outputs": [
    {
     "name": "stdout",
     "output_type": "stream",
     "text": [
      "5\n",
      "(1.0, 28.0)\n",
      "8.7\n",
      "123.19999999999999\n",
      "1.9470432273905927\n",
      "3.878019618875446\n"
     ]
    },
    {
     "data": {
      "text/plain": [
       "DescribeResult(nobs=5, minmax=(1.0, 28.0), mean=8.7, variance=123.19999999999999, skewness=1.9470432273905927, kurtosis=3.878019618875446)"
      ]
     },
     "execution_count": 5,
     "metadata": {},
     "output_type": "execute_result"
    }
   ],
   "source": [
    "res = scipy.stats.describe(y, ddof=1, bias=False)\n",
    "print(res.nobs)\n",
    "print(res.minmax)\n",
    "print(res.mean)\n",
    "print(res.variance)\n",
    "print(res.skewness)\n",
    "print(res.kurtosis)\n",
    "res"
   ]
  },
  {
   "cell_type": "code",
   "execution_count": 6,
   "metadata": {},
   "outputs": [
    {
     "data": {
      "text/plain": [
       "count     5.00000\n",
       "mean      8.70000\n",
       "std      11.09955\n",
       "min       1.00000\n",
       "25%       2.50000\n",
       "50%       4.00000\n",
       "75%       8.00000\n",
       "max      28.00000\n",
       "dtype: float64"
      ]
     },
     "execution_count": 6,
     "metadata": {},
     "output_type": "execute_result"
    }
   ],
   "source": [
    "res = z.describe()\n",
    "res"
   ]
  },
  {
   "cell_type": "markdown",
   "metadata": {},
   "source": [
    "# Measures of Correlation between pairs of data\n",
    "\n",
    "Often we need to examine the relationship between the corresponding elements of two variables in a dataset. Day there are two variables x and y, with an equal number of elements n, let $x_{1}$ from $x$ be in function of $y_{1}$ from $y$ and so on with $x_{2}$ and $y_{2}$. We can say that there are n pairs of corresponding elements of x and y.\n",
    "\n",
    "The most useful measure of correlation are:\n",
    "\n",
    "- **Postive Correlation:** exists when larger values of x corresponds to larger values of y\n",
    "- **Negative Correlation:** exists when larges values of x corresponds to smaller values of y\n",
    "- **Weak or no correlation exists:** if there is no such apparent relationship "
   ]
  },
  {
   "cell_type": "code",
   "execution_count": 1,
   "metadata": {},
   "outputs": [
    {
     "ename": "NameError",
     "evalue": "name 'np' is not defined",
     "output_type": "error",
     "traceback": [
      "\u001b[1;31m---------------------------------------------------------------------------\u001b[0m",
      "\u001b[1;31mNameError\u001b[0m                                 Traceback (most recent call last)",
      "Cell \u001b[1;32mIn[1], line 4\u001b[0m\n\u001b[0;32m      1\u001b[0m x \u001b[38;5;241m=\u001b[39m \u001b[38;5;28mlist\u001b[39m(\u001b[38;5;28mrange\u001b[39m(\u001b[38;5;241m-\u001b[39m\u001b[38;5;241m10\u001b[39m, \u001b[38;5;241m11\u001b[39m))\n\u001b[0;32m      2\u001b[0m y \u001b[38;5;241m=\u001b[39m [\u001b[38;5;241m0\u001b[39m, \u001b[38;5;241m2\u001b[39m, \u001b[38;5;241m2\u001b[39m, \u001b[38;5;241m2\u001b[39m, \u001b[38;5;241m2\u001b[39m, \u001b[38;5;241m3\u001b[39m, \u001b[38;5;241m3\u001b[39m, \u001b[38;5;241m6\u001b[39m, \u001b[38;5;241m7\u001b[39m, \u001b[38;5;241m4\u001b[39m, \u001b[38;5;241m7\u001b[39m, \u001b[38;5;241m6\u001b[39m, \u001b[38;5;241m6\u001b[39m, \u001b[38;5;241m9\u001b[39m, \u001b[38;5;241m4\u001b[39m, \u001b[38;5;241m5\u001b[39m, \u001b[38;5;241m5\u001b[39m, \u001b[38;5;241m10\u001b[39m, \u001b[38;5;241m11\u001b[39m, \u001b[38;5;241m12\u001b[39m, \u001b[38;5;241m14\u001b[39m]\n\u001b[1;32m----> 4\u001b[0m x_, y_ \u001b[38;5;241m=\u001b[39m \u001b[43mnp\u001b[49m\u001b[38;5;241m.\u001b[39marray(x), np\u001b[38;5;241m.\u001b[39marray(y)\n\u001b[0;32m      5\u001b[0m x__, y__ \u001b[38;5;241m=\u001b[39m pd\u001b[38;5;241m.\u001b[39mseries(x_), pd\u001b[38;5;241m.\u001b[39mseries(y_)\n",
      "\u001b[1;31mNameError\u001b[0m: name 'np' is not defined"
     ]
    }
   ],
   "source": [
    "x = list(range(-10, 11))\n",
    "y = [0, 2, 2, 2, 2, 3, 3, 6, 7, 4, 7, 6, 6, 9, 4, 5, 5, 10, 11, 12, 14]\n",
    "\n",
    "x_, y_ = np.array(x), np.array(y)\n",
    "x__, y__ = pd.series(x_), pd.series(y_)"
   ]
  },
  {
   "cell_type": "markdown",
   "metadata": {},
   "source": [
    "## Covariance\n",
    "The sample covariance is a measure that quantifies the strength and direction of a relationship between a pair of variables:\n",
    "\n",
    "- if the correlation is positive then the covariance is positive\n",
    "- if the correlation is negative then the covariance is negative\n",
    "- if the correlation is weak then the covariance is close to zero\n",
    "\n",
    "The covariance of the variables x and y is mathematically defined as:\n",
    "\n",
    "$$cov_{x,y} = \\frac{\\sum{(x_{i} - \\overline{x})(y_{i} - \\overline{y})}}{N - 1}$$\n",
    "\n",
    "    the covariance of two identical variables is the variance"
   ]
  },
  {
   "cell_type": "code",
   "execution_count": 12,
   "metadata": {},
   "outputs": [
    {
     "name": "stdout",
     "output_type": "stream",
     "text": [
      "[[38.5        19.95      ]\n",
      " [19.95       13.91428571]]\n"
     ]
    },
    {
     "data": {
      "text/plain": [
       "19.95"
      ]
     },
     "execution_count": 12,
     "metadata": {},
     "output_type": "execute_result"
    }
   ],
   "source": [
    "n = len(x)\n",
    "mean_x, mean_y = sum(x) / n, sum(y)/n\n",
    "cov_xy = (sum((x[k] - mean_x) * (y[k] - mean_y) for k in range(n)) / (n - 1))\n",
    "\n",
    "print(np.cov(x_, y_))\n",
    "cov_xy"
   ]
  }
 ],
 "metadata": {
  "kernelspec": {
   "display_name": "Python 3",
   "language": "python",
   "name": "python3"
  },
  "language_info": {
   "codemirror_mode": {
    "name": "ipython",
    "version": 3
   },
   "file_extension": ".py",
   "mimetype": "text/x-python",
   "name": "python",
   "nbconvert_exporter": "python",
   "pygments_lexer": "ipython3",
   "version": "3.10.7"
  }
 },
 "nbformat": 4,
 "nbformat_minor": 2
}
