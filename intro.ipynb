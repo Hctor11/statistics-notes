{
 "cells": [
  {
   "cell_type": "markdown",
   "metadata": {},
   "source": [
    "# Understanding Descriptive statistics\n",
    "\n",
    "Descriptive statistics is about describing and summarizing data, It uses two main approaches:\n",
    "\n",
    "- Quantitative approach, where the data is numeric.\n",
    "- Visual approach, where the data is illustrated with plots and histograms.\n",
    "\n",
    "# Types of measures\n",
    "\n",
    "- Central tendency\n",
    "- Variability\n",
    "- Correlation or joint variability\n",
    "\n",
    "# Population and samples\n",
    "The population is a set of all elements or items that you are interested in, the subset of population is called a sample, ideally, the sample should preserve the essencial statistical features of the population to a satisfactory extent.\n",
    "\n",
    "# Outliers\n",
    "An outlier is a data point that differs significantly from the majority of the data taken from a sample or population. There are many possible causes of outliers but here are few to start off:\n",
    "\n",
    "- Natural variation in data\n",
    "- change in the behavior of the observed system\n",
    "- errors in data collection\n"
   ]
  },
  {
   "cell_type": "code",
   "execution_count": 1,
   "metadata": {},
   "outputs": [],
   "source": [
    "import math\n",
    "import statistics\n",
    "import numpy as np\n",
    "import scipy.stats\n",
    "import pandas as pd"
   ]
  },
  {
   "cell_type": "code",
   "execution_count": 2,
   "metadata": {},
   "outputs": [
    {
     "data": {
      "text/plain": [
       "[8.0, 1, 2.5, 4, 28.0]"
      ]
     },
     "execution_count": 2,
     "metadata": {},
     "output_type": "execute_result"
    }
   ],
   "source": [
    "x = [8.0, 1, 2.5, 4, 28.0]\n",
    "x_with_nan = [8.0, 1, 2.5, math.nan, 4, 28.0]\n",
    "x"
   ]
  },
  {
   "cell_type": "code",
   "execution_count": 6,
   "metadata": {},
   "outputs": [
    {
     "data": {
      "text/plain": [
       "0     8.0\n",
       "1     1.0\n",
       "2     2.5\n",
       "3     NaN\n",
       "4     4.0\n",
       "5    28.0\n",
       "dtype: float64"
      ]
     },
     "execution_count": 6,
     "metadata": {},
     "output_type": "execute_result"
    }
   ],
   "source": [
    "y, y_with_nan = np.array(x), np.array(x_with_nan)\n",
    "z, z_with_nan = pd.Series(x_with_nan), pd.Series(x_with_nan)\n",
    "\n",
    "z"
   ]
  },
  {
   "cell_type": "markdown",
   "metadata": {},
   "source": [
    "# Measures of central tendency\n",
    "The measures of central tendency show the central or middle values of datasets. The most common measures of central tendency are:\n",
    "\n",
    "- mean \n",
    "- Weighted mean\n",
    "- Geometric mean\n",
    "- Harmonic mean\n",
    "- median\n",
    "- mode"
   ]
  },
  {
   "cell_type": "markdown",
   "metadata": {},
   "source": [
    "# Mean\n",
    "the smaple arithmetic mean or the _average_ is the arithmetic average of all the items in a dataset.\n",
    "$$\n",
    "$$\n"
   ]
  }
 ],
 "metadata": {
  "kernelspec": {
   "display_name": "Python 3",
   "language": "python",
   "name": "python3"
  },
  "language_info": {
   "codemirror_mode": {
    "name": "ipython",
    "version": 3
   },
   "file_extension": ".py",
   "mimetype": "text/x-python",
   "name": "python",
   "nbconvert_exporter": "python",
   "pygments_lexer": "ipython3",
   "version": "3.10.7"
  }
 },
 "nbformat": 4,
 "nbformat_minor": 2
}
