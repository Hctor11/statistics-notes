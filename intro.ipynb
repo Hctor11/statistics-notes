{
 "cells": [
  {
   "cell_type": "markdown",
   "metadata": {},
   "source": [
    "# Understanding Descriptive statistics\n",
    "\n",
    "Descriptive statistics is about describing and summarizing data, It uses two main approaches:\n",
    "\n",
    "- Quantitative approach, where the data is numeric.\n",
    "- Visual approach, where the data is illustrated with plots and histograms.\n",
    "\n",
    "# Types of measures\n",
    "\n",
    "- Central tendency\n",
    "- Variability\n",
    "- Correlation or joint variability\n",
    "\n",
    "# Population and samples\n",
    "The population is a set of all elements or items that you are interested in, the subset of population is called a sample, ideally, the sample should preserve the essencial statistical features of the population to a satisfactory extent.\n",
    "\n",
    "# Outliers\n",
    "An outlier is a data point that differs significantly from the majority of the data taken from a sample or population. There are many possible causes of outliers but here are few to start off:\n",
    "\n",
    "- Natural variation in data\n",
    "- change in the behavior of the observed system\n",
    "- errors in data collection\n"
   ]
  },
  {
   "cell_type": "code",
   "execution_count": 1,
   "metadata": {},
   "outputs": [],
   "source": [
    "import math\n",
    "import statistics\n",
    "import numpy as np\n",
    "import scipy.stats\n",
    "import pandas as pd"
   ]
  },
  {
   "cell_type": "code",
   "execution_count": 2,
   "metadata": {},
   "outputs": [
    {
     "data": {
      "text/plain": [
       "[8.0, 1, 2.5, 4, 28.0]"
      ]
     },
     "execution_count": 2,
     "metadata": {},
     "output_type": "execute_result"
    }
   ],
   "source": [
    "x = [8.0, 1, 2.5, 4, 28.0]\n",
    "x_with_nan = [8.0, 1, 2.5, math.nan, 4, 28.0]\n",
    "x"
   ]
  },
  {
   "cell_type": "code",
   "execution_count": 6,
   "metadata": {},
   "outputs": [
    {
     "data": {
      "text/plain": [
       "0     8.0\n",
       "1     1.0\n",
       "2     2.5\n",
       "3     NaN\n",
       "4     4.0\n",
       "5    28.0\n",
       "dtype: float64"
      ]
     },
     "execution_count": 6,
     "metadata": {},
     "output_type": "execute_result"
    }
   ],
   "source": [
    "y, y_with_nan = np.array(x), np.array(x_with_nan)\n",
    "z, z_with_nan = pd.Series(x_with_nan), pd.Series(x_with_nan)\n",
    "\n",
    "z"
   ]
  },
  {
   "cell_type": "markdown",
   "metadata": {},
   "source": [
    "# Measures of central tendency\n",
    "The measures of central tendency show the central or middle values of datasets. The most common measures of central tendency are:\n",
    "\n",
    "- mean \n",
    "- Weighted mean\n",
    "- Geometric mean\n",
    "- Harmonic mean\n",
    "- median\n",
    "- mode"
   ]
  },
  {
   "cell_type": "markdown",
   "metadata": {},
   "source": [
    "# Mean\n",
    "the smaple arithmetic mean or the _average_ is the arithmetic average of all the items in a dataset.\n",
    "The mean of a dataset $x$ is mathematically equivalent to\n",
    "$$\n",
    "\\Sigma_{i} \\frac{x_{i}}{n}\n",
    "$$\n"
   ]
  },
  {
   "cell_type": "code",
   "execution_count": 11,
   "metadata": {},
   "outputs": [
    {
     "data": {
      "text/plain": [
       "8.7"
      ]
     },
     "execution_count": 11,
     "metadata": {},
     "output_type": "execute_result"
    }
   ],
   "source": [
    "# We can calculate the mean with the sum() and len() functions\n",
    "mean_ = sum(x) / len(x)\n",
    "\n",
    "# Also we can use the build in statistics functions\n",
    "mean_ = statistics.mean(x)\n",
    "mean_ = statistics.fmean(x) # fmean is 'faster mean'\n",
    "\n",
    "# if we had nan values in our data, the mean and fmean functions will not work and just return a nan\n",
    "mean_ = statistics.fmean(x_with_nan)\n",
    "\n",
    "# if we need to know the mean of a dataset with nan values, we need the numpy nanmean() function\n",
    "mean_ = np.nanmean(x_with_nan)\n",
    "mean_"
   ]
  },
  {
   "cell_type": "markdown",
   "metadata": {},
   "source": [
    "# Weighted mean\n",
    "\n",
    "The weighted mean, also called the weighted arithmetic mean or weighted average is a generalization of the arithmetic mean that enable define the relative contribution of each point to the result.\n",
    "\n",
    "We need to define the $weight\\; w_{i}$ for each data point $x_{i}$ of the dataset. Mathematically this is equals to:\n",
    "\n",
    "$$\\dfrac{\\sum_{i}w_{i}x_{i}}{\\sum_{i}w_{i}}$$\n",
    "\n",
    "The weighted mean is useful when we need the mean of a dataset containing items that occur with relative frequences."
   ]
  },
  {
   "cell_type": "markdown",
   "metadata": {},
   "source": [
    "    For example, say that you have a set in which 20% of all items are equal to 2, 50% of the items are equal to 4, and the remaining 30% of the items are equal to 8. You can calculate the mean of such a set like this:"
   ]
  },
  {
   "cell_type": "code",
   "execution_count": 1,
   "metadata": {},
   "outputs": [
    {
     "data": {
      "text/plain": [
       "4.8"
      ]
     },
     "execution_count": 1,
     "metadata": {},
     "output_type": "execute_result"
    }
   ],
   "source": [
    "0.2 * 2 + 0.5 * 4 + 0.3 * 8"
   ]
  }
 ],
 "metadata": {
  "kernelspec": {
   "display_name": "Python 3",
   "language": "python",
   "name": "python3"
  },
  "language_info": {
   "codemirror_mode": {
    "name": "ipython",
    "version": 3
   },
   "file_extension": ".py",
   "mimetype": "text/x-python",
   "name": "python",
   "nbconvert_exporter": "python",
   "pygments_lexer": "ipython3",
   "version": "3.10.7"
  }
 },
 "nbformat": 4,
 "nbformat_minor": 2
}
